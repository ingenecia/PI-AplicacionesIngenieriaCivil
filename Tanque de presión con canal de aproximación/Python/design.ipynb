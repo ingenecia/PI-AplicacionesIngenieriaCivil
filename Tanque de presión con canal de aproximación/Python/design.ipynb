{
 "cells": [
  {
   "cell_type": "code",
   "execution_count": 39,
   "metadata": {},
   "outputs": [
    {
     "data": {
      "text/plain": [
       "{'Calado': 1.285577130831656,\n",
       " 'CA: Velocidad': 1.4098726218219757,\n",
       " 'CA: Froude': 0.39700529974591003,\n",
       " 'CA: Tipo de flujo': 'Subcrítico',\n",
       " 'Area hidráulica': 6.444444444444445,\n",
       " 'T: Froude': 1.1788908932193392,\n",
       " 'T: Tipo de flujo': 'Supercrítico',\n",
       " 'T: Velocidad': 3.6923946797319718,\n",
       " 'T: Verificación de velocidad': 'OK',\n",
       " 'Altura de sumergencia': 2.8577817864386783,\n",
       " 'Ancho efectivo': 2.2550512691437534,\n",
       " 'Número de espacios': 56.0,\n",
       " 'Número de barras': 55.0,\n",
       " 'Ancho total reja': 5.005051269143753,\n",
       " 'Pérdidas reja': 0.08090639903089511,\n",
       " 'Volumen del tanque': 580.0,\n",
       " 'Altura del tanque': 4.7,\n",
       " 'Área del tanque': 123.40425531914893,\n",
       " 'Borde extra reja': 0.9974743654281233,\n",
       " 'Dimensiones del tanque': [7.0, 17.700000000000003]}"
      ]
     },
     "execution_count": 39,
     "metadata": {},
     "output_type": "execute_result"
    }
   ],
   "source": [
    "from pressure_tank_fncs import pressure_tank_design\n",
    "\n",
    "# Input values\n",
    "Qd = 2.9\n",
    "I = .001\n",
    "n = .014\n",
    "\n",
    "D = 1\n",
    "tp = 200\n",
    "vd = .75\n",
    "alpha = 60\n",
    "Cf = 2.42\n",
    "b = 1.6\n",
    "Cd = .6\n",
    "a = .04\n",
    "s = .05\n",
    "a1 = .5\n",
    "a4 = .3\n",
    "\n",
    "# Diseño\n",
    "S = pressure_tank_design(Qd, D, tp, vd, I, n, alpha, Cf, b, Cd, a, s, a1, a4)\n",
    "\n",
    "# Visualizacion de resultados\n",
    "S"
   ]
  }
 ],
 "metadata": {
  "kernelspec": {
   "display_name": "Python 3",
   "language": "python",
   "name": "python3"
  },
  "language_info": {
   "codemirror_mode": {
    "name": "ipython",
    "version": 3
   },
   "file_extension": ".py",
   "mimetype": "text/x-python",
   "name": "python",
   "nbconvert_exporter": "python",
   "pygments_lexer": "ipython3",
   "version": "3.11.4"
  },
  "orig_nbformat": 4
 },
 "nbformat": 4,
 "nbformat_minor": 2
}
